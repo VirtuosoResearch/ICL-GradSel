{
 "cells": [
  {
   "cell_type": "code",
   "execution_count": 3,
   "metadata": {},
   "outputs": [
    {
     "name": "stdout",
     "output_type": "stream",
     "text": [
      "[[2.3513088e-01 6.8433709e+00 1.3600601e-01 4.9208704e-01 2.7693906e+00\n",
      "  2.1927845e+00 1.4069694e-01 5.9286137e+00 1.2411430e+01 5.3030677e+00\n",
      "  1.2050323e+00 6.2124701e+00 1.6611528e+00 1.7964553e+00 1.9208615e+00\n",
      "  1.8534723e+01 1.0214211e+01 9.2526531e+00 2.6850920e+00 1.6996109e+01\n",
      "  1.8462721e+01 1.1935713e+01 3.6442951e+01 3.5079105e+00 2.3585461e+01\n",
      "  7.5108647e+00 6.8593016e+00 3.1804230e+00 1.7460289e+01 1.2833880e-02\n",
      "  2.6286263e+00 2.8853729e+00 1.7861501e+00 1.8701001e+00 1.7623763e+00\n",
      "  4.9389877e+00 2.7255445e+00 1.4926691e+00 1.1318199e-01 1.0372382e-01\n",
      "  3.9258903e-01]]\n"
     ]
    }
   ],
   "source": [
    "import numpy as np\n",
    "\n",
    "loaded = np.load(\"../results/noisy_LR.npz\")\n",
    "\n",
    "print(loaded['loss_full_label_list'])"
   ]
  }
 ],
 "metadata": {
  "kernelspec": {
   "display_name": "metaicl",
   "language": "python",
   "name": "python3"
  },
  "language_info": {
   "codemirror_mode": {
    "name": "ipython",
    "version": 3
   },
   "file_extension": ".py",
   "mimetype": "text/x-python",
   "name": "python",
   "nbconvert_exporter": "python",
   "pygments_lexer": "ipython3",
   "version": "3.8.20"
  }
 },
 "nbformat": 4,
 "nbformat_minor": 2
}
