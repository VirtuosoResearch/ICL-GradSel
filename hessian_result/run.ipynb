{
 "cells": [
  {
   "cell_type": "code",
   "execution_count": 2,
   "metadata": {},
   "outputs": [
    {
     "name": "stdout",
     "output_type": "stream",
     "text": [
      "[[16.73995399 16.62733078 17.4433918  18.27959824 18.01922798 18.00252533\n",
      "  17.64824295 17.6878643  17.50521469 17.56126022]\n",
      " [15.06868839 16.95382118 16.95397758 17.39637375 17.67090607 17.86496162\n",
      "  17.06251907 17.23027802 16.44504356 17.53982162]\n",
      " [13.46938324 15.69158173 16.269207   15.74019814 16.74666214 16.47208786\n",
      "  14.7784977  16.54366302 15.50936413 15.66444969]\n",
      " [11.68238926 15.4220295  16.23620605 14.62100983 15.36774731 15.2985096\n",
      "  15.0857439  15.38573837 15.45659447 15.6700325 ]]\n"
     ]
    }
   ],
   "source": [
    "import json\n",
    "import numpy as np\n",
    "\n",
    "method = 'randomk'\n",
    "method = 'topk'\n",
    "method = 'estim'\n",
    "with open(f\"{method}_hessian.json\", \"r\", encoding=\"utf-8\") as f:\n",
    "    hessian_list = json.load(f)\n",
    "with open(f\"{method}_loss.json\", \"r\", encoding=\"utf-8\") as f:\n",
    "    loss_list = json.load(f)\n",
    "\n",
    "loss_list_k = np.array(loss_list)\n",
    "hessian_list_k = np.array(hessian_list)\n",
    "\n",
    "print(loss_list_k)\n",
    "\n"
   ]
  }
 ],
 "metadata": {
  "kernelspec": {
   "display_name": "metaicl",
   "language": "python",
   "name": "python3"
  },
  "language_info": {
   "codemirror_mode": {
    "name": "ipython",
    "version": 3
   },
   "file_extension": ".py",
   "mimetype": "text/x-python",
   "name": "python",
   "nbconvert_exporter": "python",
   "pygments_lexer": "ipython3",
   "version": "3.8.20"
  }
 },
 "nbformat": 4,
 "nbformat_minor": 2
}
