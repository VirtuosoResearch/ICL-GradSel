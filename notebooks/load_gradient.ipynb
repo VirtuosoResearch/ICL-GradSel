{
 "cells": [
  {
   "cell_type": "code",
   "execution_count": 3,
   "metadata": {},
   "outputs": [
    {
     "name": "stdout",
     "output_type": "stream",
     "text": [
      "[[-4.5625     -0.58203125 -1.8984375  ...  0.          0.\n",
      "   0.        ]\n",
      " [-4.5625     -0.58203125 -1.8984375  ...  0.          0.\n",
      "   0.        ]\n",
      " [-4.5625     -0.58203125 -1.8984375  ...  0.          0.\n",
      "   0.        ]\n",
      " ...\n",
      " [-4.5625     -0.58203125 -1.8984375  ...  0.          0.\n",
      "   0.        ]\n",
      " [-4.5625     -0.58203125 -1.8984375  ...  0.          0.\n",
      "   0.        ]\n",
      " [-4.5625     -0.58203125 -1.8984375  ...  0.          0.\n",
      "   0.        ]]\n",
      "(400, 255)\n"
     ]
    }
   ],
   "source": [
    "# /home/michael/project/Gradient-free-adaptation/gradients/Alpaca_meta-llama-Llama-3.2-1B_fast_approximation_gradients_double_adapter_quant2_dim_50_run_0_pretrained/train_batch_0_gradients.npy\n",
    "\n",
    "import numpy as np\n",
    "\n",
    "file = \"/home/michael/project/Gradient-free-adaptation/gradients/Alpaca_meta-llama-Llama-3.2-1B_fast_approximation_gradients_double_adapter_quant2_dim_50_run_0_pretrained/pretrain_outputs.npy\"\n",
    "\n",
    "data = np.load(file)\n",
    "print(data)\n",
    "print(data.shape)"
   ]
  }
 ],
 "metadata": {
  "kernelspec": {
   "display_name": "adap",
   "language": "python",
   "name": "python3"
  },
  "language_info": {
   "codemirror_mode": {
    "name": "ipython",
    "version": 3
   },
   "file_extension": ".py",
   "mimetype": "text/x-python",
   "name": "python",
   "nbconvert_exporter": "python",
   "pygments_lexer": "ipython3",
   "version": "3.10.15"
  }
 },
 "nbformat": 4,
 "nbformat_minor": 2
}
